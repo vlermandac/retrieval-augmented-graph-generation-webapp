{
 "cells": [
  {
   "cell_type": "markdown",
   "metadata": {},
   "source": [
    "# 1. Prompts"
   ]
  },
  {
   "cell_type": "code",
   "execution_count": 5,
   "metadata": {},
   "outputs": [],
   "source": [
    "prompts = [\n",
    "    \"¿Qué es un centro de detención clandestino? \",\n",
    "    \"¿Qué hechos relacionados a la violaciones de los derechos humanos ocurrieron en Chile en el año 1980?\",\n",
    "    \"¿Qué rol cumplió la CNI y la DINA en la violación de los derechos humanos en Chile?\",\n",
    "]"
   ]
  },
  {
   "cell_type": "markdown",
   "metadata": {},
   "source": [
    "# 2. Contexto\n",
    "Cada prompt genera un contexto en el sistema"
   ]
  },
  {
   "cell_type": "code",
   "execution_count": 6,
   "metadata": {},
   "outputs": [],
   "source": [
    "# con estos ids se obtendran los resultados triples correspondientes\n",
    "chunk_id_list_1 = [55, 20, 28, 31, 19]\n",
    "chunk_id_list_2 = [143, 142, 17, 18, 69]\n",
    "chunk_id_list_3 = [14, 75, 143, 13, 28]"
   ]
  },
  {
   "cell_type": "code",
   "execution_count": 9,
   "metadata": {},
   "outputs": [
    {
     "name": "stdout",
     "output_type": "stream",
     "text": [
      "Contexto 1:  5\n"
     ]
    }
   ],
   "source": [
    "import json\n",
    "paths = [\"datos_a_evaluar/case1/context.json\", \n",
    "         \"datos_a_evaluar/case2/context.json\",\n",
    "         \"datos_a_evaluar/case3/context.json\"]\n",
    "        \n",
    "c1, c2, c3 = None, None, None\n",
    "context_1 = []\n",
    "context_2 = []\n",
    "context_3 = []\n",
    "\n",
    "with open(paths[0]) as f:\n",
    "    c1 = json.load(f)\n",
    "for i in c1:\n",
    "    context_1.append(i['text'])\n",
    "\n",
    "with open(paths[1]) as f:\n",
    "    c2 = json.load(f)\n",
    "for i in c2:\n",
    "    context_2.append(i['text'])\n",
    "\n",
    "with open(paths[2]) as f:\n",
    "    c3 = json.load(f)\n",
    "for i in c3:\n",
    "    context_3.append(i['text'])\n",
    "\n",
    "print(\"Contexto 1: \", len(context_1))"
   ]
  },
  {
   "cell_type": "markdown",
   "metadata": {},
   "source": [
    "# 3. Respuestas"
   ]
  },
  {
   "cell_type": "markdown",
   "metadata": {},
   "source": [
    "## 3.1 Respuestas Textuales "
   ]
  },
  {
   "cell_type": "code",
   "execution_count": 10,
   "metadata": {},
   "outputs": [],
   "source": [
    "text_response_1 = \"\"\"Un centro de detención clandestino es un recinto utilizado por organismos de seguridad del Estado para mantener detenidas a personas sin el debido proceso legal, frecuentemente involucrando actos de tortura y abuso físico y psicológico. Durante el régimen militar en Chile, estos lugares operaron de manera secreta, con condiciones inhumanas que incluían incomunicación, malos tratos, golpes, y diversas formas de tortura, como el uso de electricidad y violencia sexual. Los detenidos, en su mayoría prisioneros políticos, eran trasladados entre diferentes centros de tortura y secretos sin ser reconocidos oficialmente, creando un ambiente de terror y desamparo. Estos lugares mantuvieron a las personas en condiciones deplorables, privándolas de alimentos, agua y atención médica, y muchas veces, sus encerramientos eran ilegales y sin justificación.\n",
    "\n",
    "Fuentes:\n",
    "\n",
    "Comisión Nacional sobre Prisión Política y Tortura. Informe de la Comisión Nacional sobre Prisión Política y Tortura Valech I 2005 (p. 524 - 533)\n",
    "Comisión Nacional sobre Prisión Política y Tortura. Informe de la Comisión Nacional sobre Prisión Política y Tortura Valech I 2005 (p. 233 - 241)\n",
    "Comisión Nacional sobre Prisión Política y Tortura. Informe de la Comisión Nacional sobre Prisión Política y Tortura Valech I 2005 (p. 292 - 303)\n",
    "Comisión Nacional sobre Prisión Política y Tortura. Informe de la Comisión Nacional sobre Prisión Política y Tortura Valech I 2005 (p. 321 - 330)\n",
    "Comisión Nacional sobre Prisión Política y Tortura. Informe de la Comisión Nacional sobre Prisión Política y Tortura Valech I 2005 (p. 225 - 234)\"\"\"\n",
    "text_response_2 = \"\"\"En el año 1980, Chile se encontraba bajo el régimen militar encabezado por Augusto Pinochet, y se registraron varias violaciones de derechos humanos. Aunque el contexto específico de tu consulta se centra en ese año, es importante destacar que las violaciones de derechos humanos empezaron con el golpe de estado en 1973 y continuaron a lo largo de la dictadura.\n",
    "\n",
    "1. **Constitución de 1980**: En septiembre de 1980, el régimen militar promulgó una nueva Constitución, que fue elaborada sin participación popular y bajo un clima de represión. Esta constitución contenía disposiciones que limitaban severamente los derechos políticos y civiles, incluyendo prohibiciones de actividad política por parte de grupos opositores.\n",
    "\n",
    "2. **Detenciones Arbitrarias y Torturas**: A lo largo de 1980, las fuerzas de seguridad continuaron con la práctica de detenciones arbitrarias, secuestros y torturas. Diversas organizaciones de derechos humanos, tanto nacionales como internacionales, denunciaron casos de prisioneros políticos que eran torturados en centros de detención. La Comisión Interamericana de Derechos Humanos emitió informes y resoluciones que denunciaban esta situación.\n",
    "\n",
    "3. **Censura y Control de Medios**: Los medios de comunicación estaban sometidos a un rígido control y censura, lo que dificultaba la denuncia pública de las violaciones a los derechos humanos. La falta de información veraz impedía que la sociedad conociera plenamente la magnitud de las violaciones que estaban ocurriendo.\n",
    "\n",
    "4. **Reacciones Internacionales**: Informes de organizaciones internacionales, incluyendo la ONU, denunciaron la situación de derechos humanos en Chile, incluyendo la práctica sistemática de tortura y detenciones arbitrarias. En 1980, se realizaron varias resoluciones de condena que reflejaron la preocupación internacional por la situación en el país.\n",
    "\n",
    "En resumen, el año 1980 en Chile estuvo marcado por la continuación de una política de represión sistemática, incluyendo violaciones graves de derechos humanos, censura a los medios, y la promulgación de una constitución que consolidó el régimen autoritario. Esto generó importantes reacciones tanto a nivel interno, de organizaciones como el Comité Pro Paz, como a nivel internacional, donde se denunciaron estas violaciones ante diferentes foros y organismos.\n",
    "\n",
    "Fuentes:\n",
    "\n",
    "Comisión Nacional de Verdad y Justicia. Informe de la Comisión Nacional de Verdad y Justicia Tomo I 1991 (p. 1096 - 1098)\n",
    "\n",
    "Comisión Nacional de Verdad y Justicia. Informe de la Comisión Nacional de Verdad y Justicia Tomo I 1991 (p. 1090 - 1096)\n",
    "\n",
    "Comisión Nacional sobre Prisión Política y Tortura. Informe de la Comisión Nacional sobre Prisión Política y Tortura Valech I 2005 (p. 208 - 215)\n",
    "\n",
    "Comisión Nacional sobre Prisión Política y Tortura. Informe de la Comisión Nacional sobre Prisión Política y Tortura Valech I 2005 (p. 215 - 225)\n",
    "\n",
    "Comisión Nacional de Verdad y Justicia. Informe de la Comisión Nacional de Verdad y Justicia Tomo I 1991 (p. 668 - 673)\"\"\"\n",
    "text_response_3 = \"\"\"La CNI (Central Nacional de Informaciones) y la DINA (Dirección de Inteligencia Nacional) jugaron roles fundamentales en la violación de los derechos humanos en Chile durante la dictadura de Augusto Pinochet. Ambos organismos fueron responsables de llevar a cabo una represión sistemática y brutal contra aquellos considerados enemigos del régimen, que incluían no solo a militantes de partidos de izquierda, sino también a civiles sin vinculación política directa, lo que evidenció un amplio margen de arbitrariedad en la selección de sus víctimas.\n",
    "\n",
    "\n",
    "La DINA, creada en junio de 1974, se especializó en la represión política y fue el primer organismo de inteligencia del gobierno militar. Utilizó recursos significativos para llevar a cabo su labor, que incluía prácticas de tortura, detención arbitraria, desaparición forzada y asesinatos de prisioneros. La tortura era una práctica sistemática, utilizada tanto para obtener información como para imponer el terror, y se llevó a cabo en recintos clandestinos. La DINA no solo actuó dentro de Chile sino que también realizó operaciones internacionales, como el asesinato del ex canciller Orlando Letelier en Washington D.C.\n",
    "\n",
    "\n",
    "La CNI, que reemplazó a la DINA en 1977, continuó con las mismas prácticas represivas y mantuvo, en gran medida, los métodos de la DINA, aunque con un enfoque más selectivo. Esto se tradujo en una intensificación del control sobre los opositores políticos y la neutralización de cualquier disidencia organizada. Ambos organismos operaron con una falta de rendición de cuentas y autonomía, contando con el respaldo del gobierno militar, lo que les permitió llevar a cabo abusos sistemáticos sin temor a represalias.\n",
    "\n",
    "\n",
    "El legado de la CNI y la DINA se caracteriza por una política de estado que incluyó la tortura y la eliminación de opositores, y su accionar condujo a un ambiente de miedo y desesperación en la población chilena, violando gravemente los derechos humanos fundamentales.\n",
    "\n",
    "\n",
    "Fuentes:\n",
    "\n",
    "\n",
    "Comisión Nacional sobre Prisión Política y Tortura. Informe de la Comisión Nacional sobre Prisión Política y Tortura Valech I 2005 (p. 190 - 196)\n",
    "\n",
    "Comisión Nacional de Verdad y Justicia. Informe de la Comisión Nacional de Verdad y Justicia Tomo I 1991 (p. 700 - 705)\n",
    "\n",
    "Comisión Nacional de Verdad y Justicia. Informe de la Comisión Nacional de Verdad y Justicia Tomo I 1991 (p. 1096 - 1098)\n",
    "\n",
    "Comisión Nacional sobre Prisión Política y Tortura. Informe de la Comisión Nacional sobre Prisión Política y Tortura Valech I 2005 (p. 183 - 190)\n",
    "\n",
    "Comisión Nacional sobre Prisión Política y Tortura. Informe de la Comisión Nacional sobre Prisión Política y Tortura Valech I 2005 (p. 292 - 303)\"\"\""
   ]
  },
  {
   "cell_type": "markdown",
   "metadata": {},
   "source": [
    "## 3.2 Respuestas Triples"
   ]
  },
  {
   "cell_type": "code",
   "execution_count": 20,
   "metadata": {},
   "outputs": [],
   "source": [
    "def triple_to_sentence(triples):\n",
    "    phrases = []\n",
    "    for triple in triples:\n",
    "        phrase = f\"{triple['entity1']} {triple['relation']} {triple['entity2']}\"\n",
    "        phrases.append(phrase)\n",
    "    return \", \".join(phrases)"
   ]
  },
  {
   "cell_type": "code",
   "execution_count": 21,
   "metadata": {},
   "outputs": [
    {
     "name": "stdout",
     "output_type": "stream",
     "text": [
      "Triplets 1:  dina ubicado en londres 38, partido socialista pertenecido a londres 38, londres 38 conocido como palacio de la risa, londres 38 conocido como casa de las campanas, iglesia de san francisco se escuchaban las campanas de londres 38, din a cargo de cni, dina traslados a otros recintos clandestinos, cni modificó decreto supremo n 324, decreto supremo n 324 publicado en diario oficial, calle josé domingo cañas n 1367 ubicado en comuna de ñuñoa, dina utilizado en calle josé domingo cañas n 1367, clínica santa lucía ubicada en calle santa lucía n 162, dina usado por clínica santa lucía, campamento cuatro álamos a cargo de dina, camino conjunto nido 20 ubicado en santa teresa 037, dina recibió prisioneros políticos, comando conjunto nido 18 ubicado en calle perú 9053, cni ubicado en cuartel central borgoñoabogado comunicarse con detenido, detenido sometido a consejo de guerra, fiscal dictamen de defensa, familiares no se les entregaba información del detenido, detenido en centro de reclusión, detenido liberado o condenado familiares, detenido virtual desaparecido familiares, detenido sustraído de contacto con familiares, detenido realizaba interrogatorios en lugar distinto, detenido lugar de detención santiago, denunciados en cárceles, detenido sometidos a interrogatorios, torturas padecidas por detenidos, testimonios indican métodos de tortura, interrogatorio realizado en lugar distinto, detenido sometido a tortura, dina recibió reconocimiento legal pleno, detenciones realizadas por dina, agentes represivos interrumpían vida cotidiana, detenidos detenciones descriptivas testimonios, testimonios recibidos comisión, comisión recabó testimonios de detenidos, detenidos permanecieron en recinto de reclusión, detenidos mantuvieron en cárceles, gendarmería realizada por carabineros, familiares indicados verbalmente detenidos, autorización necesitada por detenidos, testimonios referidos a detenidos desaparecidos, detenido sometidos a interrogatorios en recintos secretos, libertad condicional benficio carcelario detenidos, interrogatorios practicar agentes de seguridad, métodos de torture documentados por comisión, detenido trasladado a recintos secretoshospital barros luco por síntomas de pérdida, dina al momento de parto, mujer embarazada fue víctima de viola y tortura, mujer embarazada fue detenida en cautiverio, madre tenía cinco meses de embarazo, madre sufrió tortura, madre sufrió abuso sexual, madre sufrió choques de electricidad, derecho a la vida fue amenazado por tortura, niñez fue llena de tristezas trauma y depresión, padres producen ruptura de su matrimonio, región metropolitana en 1975, prisión de mujeres violadas que quedaron embarazadas, mujeres violadas quedaron embarazadas, embarazo tubario sucedió en región metropolitana 1973, militares detienen persona, persona fue trasladada a regimiento, persona interrogan acerca de militancia política, familia era de izquierda, octubre de 1973 me devuelven a cárcel de se omite, se omite fue lugar de detención, región metropolitana en 1974, mujer de 29 años declaró ante comisión, madre quedó embarazada a los 15 años, hija nació de madre, madre prefirió que su situación existiera, madre fue detenida, testimonio marcó mi vida, madre fue hija de la vergüenza, madre nunca fue perdonada, personas cargan con sus desaparecidos, personas cargan con sus torturas, región metropolitana en 1984, testimonios dejan claro la indefensión de las mujeres, mujeres detenidas sufrieron torturas, pedro de valdivia fue detención en chile, cni era clandestina, pueblo reportó detenciones, regiones fueron diferentes recintos, días fueron utilizados como recintos de detención., comisión nacional sobre prisión política y tortura recibió testimonios, región metropolitana recintos de detención y tortura de las mujeres.erza aérea vigilando carabineros, campo tenía tanque militar, campo era campamento de prisioneros, prisioneros eran hombres, campamento funcionó desde 1973, campamento funcionó hasta 1975, 1974 empezó a desocuparse gradualmente campo, prisioneros políticos eran trasladados a santiago, prisioneros políticos eran trasladados a valparaíso, pisagua mantenía grupo de prisioneros, grupo de prisioneros sin antecedentes políticos 1975, estado de sitio detuvo prisioneros, prisoners venían de diferentes recintos militares, recintos militares primera región segunda región, detenidos habían sido torturados en diversos lugares, trayecto a chacabuco, trenes de carga de iquique, barcos de valparaíso, comedor tenía uso común, detenidos vivían en corredores de adobe, corredores de adobe estaban formados por diez casas pequeñas, celdas tenían malas condiciones de higiene, denuncias presentadas ante comisión, detenidos sufrieron malos tratos, efectos inventaban motivos para interrogarlos, ex prisioneros experimentaban presión adicional, testimonios indican que prisioneros recibieron golpizas, prisioneros fueron llevados interrogatorios, carcel pública de antofagasta, carcel pública de antofagasta concentró número de detenidos, detenidos eran conducidos a interrogatorios, carcel de antofagasta era el organismo a cargo de gendarmería, detenidos estaban bajo custodia de efectivos militares, régimen de operación duró todo el período del gobierno militar, cantidad de detenidos se concentró en año 73, informe de la cruz roja sobre visita en octubre de 1973, debido a disminución significativa años 1974 y 1975, detenciones aumentaron durante año 1980, carcel fue construida a fines del siglo xix, presos políticos se encontraban separados de presos comunes, presos políticos permanecían en patio, celdas estaban incomunicados y privados de alimento, celdas tenían malas condiciones de higiene, testimonios indican que detenidos eran sometidos a malos tratos, cárceles en calama, oposición actuaron en conjunto con cni, cuartel de investigaciones en antofagasta, detenidos sufrieron graves torturas en cuartel de investigaciones, agentes de dina, quiebre de la democracia, dina operó en los cuarteles de investigaciones, dina funcionó en conjunto con cni, testimonios de prisioneros indican que habían sido detenidoscomisión ha adquirido convicción moral prisión política, prisión política verificada entre 11 de septiembre de 1973 y 10 de marzo de 1990, código penal prohibida tortura, código de justicia militar hace responsable militar, militar emplea violencias detenidos, sistema de represión dirigido por estado, tortura práctica frecuente régimen militar, dina participa en tortura, prisiones ejecutadas por fuerzas armadas, detenciones realizadas por carabineros, testimonios reportan torturas, golpes utilizados por efectivos militares, recinto de detención variado por organismo encargado\n"
     ]
    }
   ],
   "source": [
    "file_path = \"./searcher/data/varios/triplets.json\"\n",
    "\n",
    "with open(file_path, \"r\") as file:\n",
    "    data = json.load(file)\n",
    "\n",
    "triplets_list = {item['id']: item['triplets'] for item in data}\n",
    "\n",
    "triples_1 = []\n",
    "triples_2 = []\n",
    "triples_3 = []\n",
    "\n",
    "for id in chunk_id_list_1:\n",
    "    if id in triplets_list:\n",
    "        triples_1.extend(triple_to_sentence(triplets_list[id]))\n",
    "\n",
    "for id in chunk_id_list_2:\n",
    "    if id in triplets_list:\n",
    "        triples_2.extend(triple_to_sentence(triplets_list[id]))\n",
    "\n",
    "for id in chunk_id_list_3:\n",
    "    if id in triplets_list:\n",
    "        triples_3.extend(triple_to_sentence(triplets_list[id]))\n",
    "\n",
    "triples_1_str = \"\".join(triples_1)\n",
    "triples_2_str = \"\".join(triples_2)\n",
    "triples_3_str = \"\".join(triples_3)\n",
    "\n",
    "print(\"Triplets 1: \", triples_1_str)"
   ]
  },
  {
   "cell_type": "markdown",
   "metadata": {},
   "source": [
    "# 4. Métricas\n",
    "\n",
    "Se aplican las métricas para las respuestas textuales y de triples, a excepción del summary score que solo se aplicará a los triples."
   ]
  },
  {
   "cell_type": "markdown",
   "metadata": {},
   "source": [
    "Hasta ahora, se tienen tres conjuntos de:\n",
    "- prompts[ i ]: str\n",
    "- context: list[ str ]\n",
    "- text_response: str\n",
    "- triples_str: str"
   ]
  },
  {
   "cell_type": "markdown",
   "metadata": {},
   "source": [
    "## 4.1 Retriever Evaluation\n",
    "Se necesita prompts, context y gt."
   ]
  },
  {
   "cell_type": "code",
   "execution_count": 22,
   "metadata": {},
   "outputs": [
    {
     "name": "stderr",
     "output_type": "stream",
     "text": [
      "/Users/vlermanda/micromamba/envs/searcher/lib/python3.12/site-packages/tqdm/auto.py:21: TqdmWarning: IProgress not found. Please update jupyter and ipywidgets. See https://ipywidgets.readthedocs.io/en/stable/user_install.html\n",
      "  from .autonotebook import tqdm as notebook_tqdm\n"
     ]
    }
   ],
   "source": [
    "from datasets import Dataset\n",
    "\n",
    "context_metrics_data_samples_text = {\n",
    "    'question': prompts,\n",
    "    'contexts': [context_1, context_2, context_3],\n",
    "    'ground_truth': [text_response_1, text_response_2, text_response_3]\n",
    "}\n",
    "context_metrics_data_samples_triples = {\n",
    "    'question': prompts,\n",
    "    'contexts': [context_1, context_2, context_3],\n",
    "    'ground_truth': [triples_1_str, triples_2_str, triples_3_str]\n",
    "}\n",
    "dataset1 = Dataset.from_dict(context_metrics_data_samples_text)\n",
    "dataset2 = Dataset.from_dict(context_metrics_data_samples_triples)"
   ]
  },
  {
   "cell_type": "code",
   "execution_count": 68,
   "metadata": {},
   "outputs": [
    {
     "name": "stderr",
     "output_type": "stream",
     "text": [
      "Evaluating: 100%|██████████| 3/3 [04:06<00:00, 82.12s/it] \n"
     ]
    }
   ],
   "source": [
    "from ragas.metrics import (\n",
    "    context_entity_recall\n",
    ")\n",
    "from ragas import evaluate\n",
    "from ragas.run_config import RunConfig\n",
    "\n",
    "results_text = evaluate(\n",
    "    dataset1,\n",
    "    metrics=[context_entity_recall],\n",
    "    run_config=RunConfig(timeout=500)\n",
    ")\n"
   ]
  },
  {
   "cell_type": "code",
   "execution_count": 70,
   "metadata": {},
   "outputs": [
    {
     "name": "stderr",
     "output_type": "stream",
     "text": [
      "Evaluating: 100%|██████████| 3/3 [04:15<00:00, 85.06s/it] \n"
     ]
    }
   ],
   "source": [
    "\n",
    "results_triples = evaluate(\n",
    "    dataset2,\n",
    "    metrics=[context_entity_recall],\n",
    "    run_config=RunConfig(timeout=500)\n",
    ")"
   ]
  },
  {
   "cell_type": "code",
   "execution_count": null,
   "metadata": {},
   "outputs": [],
   "source": []
  },
  {
   "cell_type": "code",
   "execution_count": 71,
   "metadata": {},
   "outputs": [
    {
     "data": {
      "text/html": [
       "<div>\n",
       "<style scoped>\n",
       "    .dataframe tbody tr th:only-of-type {\n",
       "        vertical-align: middle;\n",
       "    }\n",
       "\n",
       "    .dataframe tbody tr th {\n",
       "        vertical-align: top;\n",
       "    }\n",
       "\n",
       "    .dataframe thead th {\n",
       "        text-align: right;\n",
       "    }\n",
       "</style>\n",
       "<table border=\"1\" class=\"dataframe\">\n",
       "  <thead>\n",
       "    <tr style=\"text-align: right;\">\n",
       "      <th></th>\n",
       "      <th>question</th>\n",
       "      <th>contexts</th>\n",
       "      <th>ground_truth</th>\n",
       "      <th>context_entity_recall</th>\n",
       "    </tr>\n",
       "  </thead>\n",
       "  <tbody>\n",
       "    <tr>\n",
       "      <th>0</th>\n",
       "      <td>¿Qué es un centro de detención clandestino?</td>\n",
       "      <td>[5 1986 y 1988 de acuerdo a los testimonios la...</td>\n",
       "      <td>dina ubicado en londres 38, partido socialista...</td>\n",
       "      <td>0.017241</td>\n",
       "    </tr>\n",
       "    <tr>\n",
       "      <th>1</th>\n",
       "      <td>¿Qué hechos relacionados a la violaciones de l...</td>\n",
       "      <td>[ientes a las fuerzas armadas y de orden con q...</td>\n",
       "      <td>comité pro paz existe en período, comisión nac...</td>\n",
       "      <td>0.108108</td>\n",
       "    </tr>\n",
       "    <tr>\n",
       "      <th>2</th>\n",
       "      <td>¿Qué rol cumplió la CNI y la DINA en la violac...</td>\n",
       "      <td>[sino a representantes de organizaciones de ba...</td>\n",
       "      <td>militares detienen trabajadores sindicalizados...</td>\n",
       "      <td>0.247934</td>\n",
       "    </tr>\n",
       "  </tbody>\n",
       "</table>\n",
       "</div>"
      ],
      "text/plain": [
       "                                            question  \\\n",
       "0       ¿Qué es un centro de detención clandestino?    \n",
       "1  ¿Qué hechos relacionados a la violaciones de l...   \n",
       "2  ¿Qué rol cumplió la CNI y la DINA en la violac...   \n",
       "\n",
       "                                            contexts  \\\n",
       "0  [5 1986 y 1988 de acuerdo a los testimonios la...   \n",
       "1  [ientes a las fuerzas armadas y de orden con q...   \n",
       "2  [sino a representantes de organizaciones de ba...   \n",
       "\n",
       "                                        ground_truth  context_entity_recall  \n",
       "0  dina ubicado en londres 38, partido socialista...               0.017241  \n",
       "1  comité pro paz existe en período, comisión nac...               0.108108  \n",
       "2  militares detienen trabajadores sindicalizados...               0.247934  "
      ]
     },
     "execution_count": 71,
     "metadata": {},
     "output_type": "execute_result"
    }
   ],
   "source": [
    "df1 = results_triples.to_pandas()\n",
    "df1.head()"
   ]
  },
  {
   "cell_type": "code",
   "execution_count": 69,
   "metadata": {},
   "outputs": [
    {
     "data": {
      "text/html": [
       "<div>\n",
       "<style scoped>\n",
       "    .dataframe tbody tr th:only-of-type {\n",
       "        vertical-align: middle;\n",
       "    }\n",
       "\n",
       "    .dataframe tbody tr th {\n",
       "        vertical-align: top;\n",
       "    }\n",
       "\n",
       "    .dataframe thead th {\n",
       "        text-align: right;\n",
       "    }\n",
       "</style>\n",
       "<table border=\"1\" class=\"dataframe\">\n",
       "  <thead>\n",
       "    <tr style=\"text-align: right;\">\n",
       "      <th></th>\n",
       "      <th>question</th>\n",
       "      <th>contexts</th>\n",
       "      <th>ground_truth</th>\n",
       "      <th>context_entity_recall</th>\n",
       "    </tr>\n",
       "  </thead>\n",
       "  <tbody>\n",
       "    <tr>\n",
       "      <th>0</th>\n",
       "      <td>¿Qué es un centro de detención clandestino?</td>\n",
       "      <td>[5 1986 y 1988 de acuerdo a los testimonios la...</td>\n",
       "      <td>Un centro de detención clandestino es un recin...</td>\n",
       "      <td>0.192308</td>\n",
       "    </tr>\n",
       "    <tr>\n",
       "      <th>1</th>\n",
       "      <td>¿Qué hechos relacionados a la violaciones de l...</td>\n",
       "      <td>[ientes a las fuerzas armadas y de orden con q...</td>\n",
       "      <td>En el año 1980, Chile se encontraba bajo el ré...</td>\n",
       "      <td>0.066667</td>\n",
       "    </tr>\n",
       "    <tr>\n",
       "      <th>2</th>\n",
       "      <td>¿Qué rol cumplió la CNI y la DINA en la violac...</td>\n",
       "      <td>[sino a representantes de organizaciones de ba...</td>\n",
       "      <td>La CNI (Central Nacional de Informaciones) y l...</td>\n",
       "      <td>0.000000</td>\n",
       "    </tr>\n",
       "  </tbody>\n",
       "</table>\n",
       "</div>"
      ],
      "text/plain": [
       "                                            question  \\\n",
       "0       ¿Qué es un centro de detención clandestino?    \n",
       "1  ¿Qué hechos relacionados a la violaciones de l...   \n",
       "2  ¿Qué rol cumplió la CNI y la DINA en la violac...   \n",
       "\n",
       "                                            contexts  \\\n",
       "0  [5 1986 y 1988 de acuerdo a los testimonios la...   \n",
       "1  [ientes a las fuerzas armadas y de orden con q...   \n",
       "2  [sino a representantes de organizaciones de ba...   \n",
       "\n",
       "                                        ground_truth  context_entity_recall  \n",
       "0  Un centro de detención clandestino es un recin...               0.192308  \n",
       "1  En el año 1980, Chile se encontraba bajo el ré...               0.066667  \n",
       "2  La CNI (Central Nacional de Informaciones) y l...               0.000000  "
      ]
     },
     "execution_count": 69,
     "metadata": {},
     "output_type": "execute_result"
    }
   ],
   "source": [
    "df2 = results_text.to_pandas()\n",
    "df2.head()"
   ]
  },
  {
   "cell_type": "markdown",
   "metadata": {},
   "source": [
    "## 4.2 Generator Evaluation\n",
    "\n",
    "Se necesita prompts, context y answer."
   ]
  },
  {
   "cell_type": "code",
   "execution_count": 31,
   "metadata": {},
   "outputs": [],
   "source": [
    "answer_metrics_data_samples_text = {\n",
    "    'question': prompts,\n",
    "    'contexts': [context_1, context_2, context_3],\n",
    "    'answer': [text_response_1, text_response_2, text_response_3]\n",
    "}\n",
    "answer_metrics_data_samples_triples = {\n",
    "    'question': prompts,\n",
    "    'contexts': [context_1, context_2, context_3],\n",
    "    'answer': [triples_1_str, triples_2_str, triples_3_str]\n",
    "}\n",
    "dataset3 = Dataset.from_dict(answer_metrics_data_samples_text)\n",
    "dataset4 = Dataset.from_dict(answer_metrics_data_samples_triples)"
   ]
  },
  {
   "cell_type": "code",
   "execution_count": 34,
   "metadata": {},
   "outputs": [
    {
     "name": "stderr",
     "output_type": "stream",
     "text": [
      "Evaluating: 100%|██████████| 6/6 [00:37<00:00,  6.18s/it]\n",
      "Evaluating: 100%|██████████| 6/6 [02:26<00:00, 24.38s/it]\n"
     ]
    }
   ],
   "source": [
    "from ragas.metrics import (\n",
    "    faithfulness,\n",
    "    answer_relevancy\n",
    ")\n",
    "\n",
    "results_text = evaluate(\n",
    "    dataset3,\n",
    "    metrics=[faithfulness, answer_relevancy],\n",
    ")\n"
   ]
  },
  {
   "cell_type": "code",
   "execution_count": 61,
   "metadata": {},
   "outputs": [
    {
     "name": "stderr",
     "output_type": "stream",
     "text": [
      "Evaluating: 100%|██████████| 6/6 [02:52<00:00, 28.75s/it]\n"
     ]
    }
   ],
   "source": [
    "\n",
    "results_triples = evaluate(\n",
    "    dataset4,\n",
    "    metrics=[answer_relevancy],\n",
    "    run_config=RunConfig(timeout=500)\n",
    ")"
   ]
  },
  {
   "cell_type": "code",
   "execution_count": 62,
   "metadata": {},
   "outputs": [
    {
     "data": {
      "text/html": [
       "<div>\n",
       "<style scoped>\n",
       "    .dataframe tbody tr th:only-of-type {\n",
       "        vertical-align: middle;\n",
       "    }\n",
       "\n",
       "    .dataframe tbody tr th {\n",
       "        vertical-align: top;\n",
       "    }\n",
       "\n",
       "    .dataframe thead th {\n",
       "        text-align: right;\n",
       "    }\n",
       "</style>\n",
       "<table border=\"1\" class=\"dataframe\">\n",
       "  <thead>\n",
       "    <tr style=\"text-align: right;\">\n",
       "      <th></th>\n",
       "      <th>question</th>\n",
       "      <th>contexts</th>\n",
       "      <th>answer</th>\n",
       "      <th>faithfulness</th>\n",
       "      <th>answer_relevancy</th>\n",
       "    </tr>\n",
       "  </thead>\n",
       "  <tbody>\n",
       "    <tr>\n",
       "      <th>0</th>\n",
       "      <td>¿Qué es un centro de detención clandestino?</td>\n",
       "      <td>[5 1986 y 1988 de acuerdo a los testimonios la...</td>\n",
       "      <td>dina ubicado en londres 38, partido socialista...</td>\n",
       "      <td>0.898089</td>\n",
       "      <td>0.819966</td>\n",
       "    </tr>\n",
       "    <tr>\n",
       "      <th>1</th>\n",
       "      <td>¿Qué hechos relacionados a la violaciones de l...</td>\n",
       "      <td>[ientes a las fuerzas armadas y de orden con q...</td>\n",
       "      <td>comité pro paz existe en período, comisión nac...</td>\n",
       "      <td>0.966667</td>\n",
       "      <td>0.886788</td>\n",
       "    </tr>\n",
       "    <tr>\n",
       "      <th>2</th>\n",
       "      <td>¿Qué rol cumplió la CNI y la DINA en la violac...</td>\n",
       "      <td>[sino a representantes de organizaciones de ba...</td>\n",
       "      <td>militares detienen trabajadores sindicalizados...</td>\n",
       "      <td>0.916667</td>\n",
       "      <td>0.835951</td>\n",
       "    </tr>\n",
       "  </tbody>\n",
       "</table>\n",
       "</div>"
      ],
      "text/plain": [
       "                                            question  \\\n",
       "0       ¿Qué es un centro de detención clandestino?    \n",
       "1  ¿Qué hechos relacionados a la violaciones de l...   \n",
       "2  ¿Qué rol cumplió la CNI y la DINA en la violac...   \n",
       "\n",
       "                                            contexts  \\\n",
       "0  [5 1986 y 1988 de acuerdo a los testimonios la...   \n",
       "1  [ientes a las fuerzas armadas y de orden con q...   \n",
       "2  [sino a representantes de organizaciones de ba...   \n",
       "\n",
       "                                              answer  faithfulness  \\\n",
       "0  dina ubicado en londres 38, partido socialista...      0.898089   \n",
       "1  comité pro paz existe en período, comisión nac...      0.966667   \n",
       "2  militares detienen trabajadores sindicalizados...      0.916667   \n",
       "\n",
       "   answer_relevancy  \n",
       "0          0.819966  \n",
       "1          0.886788  \n",
       "2          0.835951  "
      ]
     },
     "execution_count": 62,
     "metadata": {},
     "output_type": "execute_result"
    }
   ],
   "source": [
    "df3 = results_triples.to_pandas()\n",
    "df3.head()"
   ]
  },
  {
   "cell_type": "code",
   "execution_count": 36,
   "metadata": {},
   "outputs": [
    {
     "data": {
      "text/html": [
       "<div>\n",
       "<style scoped>\n",
       "    .dataframe tbody tr th:only-of-type {\n",
       "        vertical-align: middle;\n",
       "    }\n",
       "\n",
       "    .dataframe tbody tr th {\n",
       "        vertical-align: top;\n",
       "    }\n",
       "\n",
       "    .dataframe thead th {\n",
       "        text-align: right;\n",
       "    }\n",
       "</style>\n",
       "<table border=\"1\" class=\"dataframe\">\n",
       "  <thead>\n",
       "    <tr style=\"text-align: right;\">\n",
       "      <th></th>\n",
       "      <th>question</th>\n",
       "      <th>contexts</th>\n",
       "      <th>answer</th>\n",
       "      <th>faithfulness</th>\n",
       "      <th>answer_relevancy</th>\n",
       "    </tr>\n",
       "  </thead>\n",
       "  <tbody>\n",
       "    <tr>\n",
       "      <th>0</th>\n",
       "      <td>¿Qué es un centro de detención clandestino?</td>\n",
       "      <td>[5 1986 y 1988 de acuerdo a los testimonios la...</td>\n",
       "      <td>Un centro de detención clandestino es un recin...</td>\n",
       "      <td>1.0</td>\n",
       "      <td>0.936479</td>\n",
       "    </tr>\n",
       "    <tr>\n",
       "      <th>1</th>\n",
       "      <td>¿Qué hechos relacionados a la violaciones de l...</td>\n",
       "      <td>[ientes a las fuerzas armadas y de orden con q...</td>\n",
       "      <td>En el año 1980, Chile se encontraba bajo el ré...</td>\n",
       "      <td>1.0</td>\n",
       "      <td>0.905807</td>\n",
       "    </tr>\n",
       "    <tr>\n",
       "      <th>2</th>\n",
       "      <td>¿Qué rol cumplió la CNI y la DINA en la violac...</td>\n",
       "      <td>[sino a representantes de organizaciones de ba...</td>\n",
       "      <td>La CNI (Central Nacional de Informaciones) y l...</td>\n",
       "      <td>1.0</td>\n",
       "      <td>0.941944</td>\n",
       "    </tr>\n",
       "  </tbody>\n",
       "</table>\n",
       "</div>"
      ],
      "text/plain": [
       "                                            question  \\\n",
       "0       ¿Qué es un centro de detención clandestino?    \n",
       "1  ¿Qué hechos relacionados a la violaciones de l...   \n",
       "2  ¿Qué rol cumplió la CNI y la DINA en la violac...   \n",
       "\n",
       "                                            contexts  \\\n",
       "0  [5 1986 y 1988 de acuerdo a los testimonios la...   \n",
       "1  [ientes a las fuerzas armadas y de orden con q...   \n",
       "2  [sino a representantes de organizaciones de ba...   \n",
       "\n",
       "                                              answer  faithfulness  \\\n",
       "0  Un centro de detención clandestino es un recin...           1.0   \n",
       "1  En el año 1980, Chile se encontraba bajo el ré...           1.0   \n",
       "2  La CNI (Central Nacional de Informaciones) y l...           1.0   \n",
       "\n",
       "   answer_relevancy  \n",
       "0          0.936479  \n",
       "1          0.905807  \n",
       "2          0.941944  "
      ]
     },
     "execution_count": 36,
     "metadata": {},
     "output_type": "execute_result"
    }
   ],
   "source": [
    "df4 = results_text.to_pandas()\n",
    "df4.head()"
   ]
  },
  {
   "cell_type": "markdown",
   "metadata": {},
   "source": [
    "## 4.3 Summarization Score"
   ]
  },
  {
   "cell_type": "code",
   "execution_count": 43,
   "metadata": {},
   "outputs": [],
   "source": [
    "summ_score_data_1 = {\n",
    "    'contexts': [context_1, context_2, context_3],\n",
    "    'summary': [text_response_1, text_response_2, text_response_3]\n",
    "}\n",
    "summ_score_data_2 = {\n",
    "    'contexts': [context_1, context_2, context_3],\n",
    "    'summary': [triples_1_str, triples_2_str, triples_3_str]\n",
    "}\n",
    "dataset5 = Dataset.from_dict(summ_score_data_1)\n",
    "dataset6 = Dataset.from_dict(summ_score_data_2)"
   ]
  },
  {
   "cell_type": "code",
   "execution_count": 56,
   "metadata": {},
   "outputs": [
    {
     "name": "stderr",
     "output_type": "stream",
     "text": [
      "Evaluating: 100%|██████████| 3/3 [03:30<00:00, 70.15s/it] \n",
      "Evaluating:  33%|███▎      | 1/3 [00:12<00:25, 12.78s/it]Exception raised in Job[0]: TimeoutError()\n",
      "Evaluating:  67%|██████▋   | 2/3 [05:00<02:54, 174.22s/it]Exception raised in Job[2]: TimeoutError()\n",
      "Evaluating: 100%|██████████| 3/3 [05:00<00:00, 100.00s/it]\n"
     ]
    }
   ],
   "source": [
    "from ragas.metrics import summarization_score\n",
    "\n",
    "summ_score_1 = evaluate(\n",
    "    dataset5,\n",
    "    metrics=[summarization_score],\n",
    "    run_config=RunConfig(timeout=300)\n",
    ")"
   ]
  },
  {
   "cell_type": "code",
   "execution_count": 59,
   "metadata": {},
   "outputs": [
    {
     "name": "stderr",
     "output_type": "stream",
     "text": [
      "Evaluating: 100%|██████████| 3/3 [04:08<00:00, 82.90s/it] \n"
     ]
    }
   ],
   "source": [
    "summ_score_2 = evaluate(\n",
    "    dataset6,\n",
    "    metrics=[summarization_score],\n",
    "    run_config=RunConfig(timeout=500)\n",
    ")"
   ]
  },
  {
   "cell_type": "code",
   "execution_count": 57,
   "metadata": {},
   "outputs": [
    {
     "data": {
      "text/html": [
       "<div>\n",
       "<style scoped>\n",
       "    .dataframe tbody tr th:only-of-type {\n",
       "        vertical-align: middle;\n",
       "    }\n",
       "\n",
       "    .dataframe tbody tr th {\n",
       "        vertical-align: top;\n",
       "    }\n",
       "\n",
       "    .dataframe thead th {\n",
       "        text-align: right;\n",
       "    }\n",
       "</style>\n",
       "<table border=\"1\" class=\"dataframe\">\n",
       "  <thead>\n",
       "    <tr style=\"text-align: right;\">\n",
       "      <th></th>\n",
       "      <th>contexts</th>\n",
       "      <th>summary</th>\n",
       "      <th>summary_score</th>\n",
       "    </tr>\n",
       "  </thead>\n",
       "  <tbody>\n",
       "    <tr>\n",
       "      <th>0</th>\n",
       "      <td>[5 1986 y 1988 de acuerdo a los testimonios la...</td>\n",
       "      <td>Un centro de detención clandestino es un recin...</td>\n",
       "      <td>0.710786</td>\n",
       "    </tr>\n",
       "    <tr>\n",
       "      <th>1</th>\n",
       "      <td>[ientes a las fuerzas armadas y de orden con q...</td>\n",
       "      <td>En el año 1980, Chile se encontraba bajo el ré...</td>\n",
       "      <td>0.497064</td>\n",
       "    </tr>\n",
       "    <tr>\n",
       "      <th>2</th>\n",
       "      <td>[sino a representantes de organizaciones de ba...</td>\n",
       "      <td>La CNI (Central Nacional de Informaciones) y l...</td>\n",
       "      <td>0.971908</td>\n",
       "    </tr>\n",
       "  </tbody>\n",
       "</table>\n",
       "</div>"
      ],
      "text/plain": [
       "                                            contexts  \\\n",
       "0  [5 1986 y 1988 de acuerdo a los testimonios la...   \n",
       "1  [ientes a las fuerzas armadas y de orden con q...   \n",
       "2  [sino a representantes de organizaciones de ba...   \n",
       "\n",
       "                                             summary  summary_score  \n",
       "0  Un centro de detención clandestino es un recin...       0.710786  \n",
       "1  En el año 1980, Chile se encontraba bajo el ré...       0.497064  \n",
       "2  La CNI (Central Nacional de Informaciones) y l...       0.971908  "
      ]
     },
     "execution_count": 57,
     "metadata": {},
     "output_type": "execute_result"
    }
   ],
   "source": [
    "df5 = summ_score_1.to_pandas()\n",
    "df5.head()"
   ]
  },
  {
   "cell_type": "code",
   "execution_count": 60,
   "metadata": {},
   "outputs": [
    {
     "data": {
      "text/html": [
       "<div>\n",
       "<style scoped>\n",
       "    .dataframe tbody tr th:only-of-type {\n",
       "        vertical-align: middle;\n",
       "    }\n",
       "\n",
       "    .dataframe tbody tr th {\n",
       "        vertical-align: top;\n",
       "    }\n",
       "\n",
       "    .dataframe thead th {\n",
       "        text-align: right;\n",
       "    }\n",
       "</style>\n",
       "<table border=\"1\" class=\"dataframe\">\n",
       "  <thead>\n",
       "    <tr style=\"text-align: right;\">\n",
       "      <th></th>\n",
       "      <th>contexts</th>\n",
       "      <th>summary</th>\n",
       "      <th>summary_score</th>\n",
       "    </tr>\n",
       "  </thead>\n",
       "  <tbody>\n",
       "    <tr>\n",
       "      <th>0</th>\n",
       "      <td>[5 1986 y 1988 de acuerdo a los testimonios la...</td>\n",
       "      <td>dina ubicado en londres 38, partido socialista...</td>\n",
       "      <td>0.950893</td>\n",
       "    </tr>\n",
       "    <tr>\n",
       "      <th>1</th>\n",
       "      <td>[ientes a las fuerzas armadas y de orden con q...</td>\n",
       "      <td>comité pro paz existe en período, comisión nac...</td>\n",
       "      <td>0.957308</td>\n",
       "    </tr>\n",
       "    <tr>\n",
       "      <th>2</th>\n",
       "      <td>[sino a representantes de organizaciones de ba...</td>\n",
       "      <td>militares detienen trabajadores sindicalizados...</td>\n",
       "      <td>0.948505</td>\n",
       "    </tr>\n",
       "  </tbody>\n",
       "</table>\n",
       "</div>"
      ],
      "text/plain": [
       "                                            contexts  \\\n",
       "0  [5 1986 y 1988 de acuerdo a los testimonios la...   \n",
       "1  [ientes a las fuerzas armadas y de orden con q...   \n",
       "2  [sino a representantes de organizaciones de ba...   \n",
       "\n",
       "                                             summary  summary_score  \n",
       "0  dina ubicado en londres 38, partido socialista...       0.950893  \n",
       "1  comité pro paz existe en período, comisión nac...       0.957308  \n",
       "2  militares detienen trabajadores sindicalizados...       0.948505  "
      ]
     },
     "execution_count": 60,
     "metadata": {},
     "output_type": "execute_result"
    }
   ],
   "source": [
    "df6 = summ_score_2.to_pandas()\n",
    "df6.head()"
   ]
  },
  {
   "cell_type": "markdown",
   "metadata": {},
   "source": [
    "CPU %\n",
    "| *name* | *mean* | *std* | *min* | *max* |\n",
    "| - | - | - | - | - |\n",
    "| cppgraph | 80.3960 | 41.251680 | 0.00 | 103.72 |\n",
    "| es01 | 5.2985 | 15.819295 | 0.25 | 71.87 |\n",
    "| fastapi | 2.8575 | 2.319192 | 1.13 | 9.30 |\n",
    "| reactapp | 0.0335 | 0.105943 | 0.00 | 0.41 |"
   ]
  },
  {
   "cell_type": "markdown",
   "metadata": {},
   "source": [
    "MEM USAGE (MB)\n",
    "| *name* | *mem limit* | *mean* | *std* | *min* | *max* |\n",
    "| - | - | - | - | - | - |\n",
    "| cppgraph | 3.841 GiB | 104.9500 | 0.366348 | 104.100 | 105.100 |\n",
    "| es01 | 1.093 GiB | 1060.8640 | 0.000000 | 1060.864 | 1060.864 |\n",
    "| fastapi | 3.841 GiB | 144.8500 | 0.094591 | 144.800 | 145.100 |\n",
    "| reactapp | 3.841 GiB | 6.9607 | 0.010178 | 6.934 | 6.969 |"
   ]
  }
 ],
 "metadata": {
  "kernelspec": {
   "display_name": "Python 3",
   "language": "python",
   "name": "python3"
  },
  "language_info": {
   "codemirror_mode": {
    "name": "ipython",
    "version": 3
   },
   "file_extension": ".py",
   "mimetype": "text/x-python",
   "name": "python",
   "nbconvert_exporter": "python",
   "pygments_lexer": "ipython3",
   "version": "3.12.3"
  }
 },
 "nbformat": 4,
 "nbformat_minor": 2
}
