{
 "cells": [
  {
   "cell_type": "code",
   "execution_count": 2,
   "metadata": {},
   "outputs": [
    {
     "name": "stdout",
     "output_type": "stream",
     "text": [
      "Triplets for id 0: [{'entity1': 'comisión nacional sobre prisión política y tortura', 'relation': 'produces', 'entity2': 'informe'}, {'entity1': 'presidente de la república', 'relation': 'establishes', 'entity2': 'comisión nacional sobre prisión política y tortura'}, {'entity1': 'ricardo lagos escobar', 'relation': 'proposes', 'entity2': 'no hay mañana sin ayer'}, {'entity1': 'comisión nacional sobre prisión política y tortura', 'relation': 'investigates', 'entity2': 'violaciones de derechos humanos'}, {'entity1': 'chile', 'relation': 'experiences', 'entity2': 'graves violaciones de derechos humanos'}, {'entity1': 'agentes del estado', 'relation': 'commit', 'entity2': 'tortura'}, {'entity1': 'víctimas de tortura', 'relation': 'suffered from', 'entity2': 'prisión política'}, {'entity1': 'derechos humanos', 'relation': 'recognized by', 'entity2': 'comisión'}, {'entity1': 'informe', 'relation': 'documents', 'entity2': 'testimonios de víctimas'}, {'entity1': 'chilenos', 'relation': 'seek', 'entity2': 'reconciliación'}, {'entity1': 'familias', 'relation': 'receive', 'entity2': 'víctimas de tortura'}, {'entity1': 'decreto supremo n 1040', 'relation': 'creates', 'entity2': 'comisión nacional sobre prisión política y tortura'}, {'entity1': 'comisión', 'relation': 'proposes', 'entity2': 'measures of reparation'}, {'entity1': 'comisión', 'relation': 'determines', 'entity2': 'victims of torture'}, {'entity1': 'victimas', 'relation': 'have', 'entity2': 'derechos'}, {'entity1': 'chile', 'relation': 'requires', 'entity2': 'acknowledgment of past injustices'}]\n",
      "Triplets for id 2: [{'entity1': 'comité de derechos humanos de las naciones unidas', 'relation': 'ha declarado', 'entity2': 'concepto de arbitrariedad'}, {'entity1': 'gustav radbruch', 'relation': 'es', 'entity2': 'jurista alemán filósofo del derecho'}, {'entity1': 'comisión nacional sobre prisión política y tortura', 'relation': 'fue organizada por', 'entity2': 'presidente de la república'}, {'entity1': 'comisión nacional sobre prisión política y tortura', 'relation': 'se encuentra asesorada por', 'entity2': 'ministerio del interior'}, {'entity1': 'presidente de la república', 'relation': 'nomina', 'entity2': 'ocho personas'}, {'entity1': 'ocho personas', 'relation': 'forman parte de', 'entity2': 'comisión'}, {'entity1': 'comisión', 'relation': 'emite', 'entity2': 'comunicados públicos'}, {'entity1': 'vicepresidencia ejecutiva', 'relation': 'es parte de', 'entity2': 'comisión'}, {'entity1': 'vicepresidencia ejecutiva', 'relation': 'realiza tareas organizativas para', 'entity2': 'comisión'}, {'entity1': 'comisión', 'relation': 'realiza sus sesiones en', 'entity2': 'santiago'}, {'entity1': 'santiago', 'relation': 'es', 'entity2': 'sede central'}, {'entity1': 'comisión', 'relation': 'recibe apoyo técnico y administrativo de', 'entity2': 'ministerio del interior'}]\n",
      "Triplets for id 4: [{'entity1': 'comisión', 'relation': 'entrega', 'entity2': 'país'}, {'entity1': 'presidente de la república', 'relation': 'dispondrá', 'entity2': 'frutos'}, {'entity1': 'unidad de apoyo informático', 'relation': 'otorgar', 'entity2': 'apoyo tecnológico'}, {'entity1': 'base de datos', 'relation': 'montada', 'entity2': 'plataforma mysql'}, {'entity1': 'tabla de víctimas', 'relation': 'contiene', 'entity2': 'información de identificación'}, {'entity1': 'tabla de detenciones', 'relation': 'contiene', 'entity2': 'registro de detenciones'}, {'entity1': 'tabla de reclusiones', 'relation': 'identifica', 'entity2': 'recintos'}, {'entity1': 'asesoría técnica', 'relation': 'otorgar', 'entity2': 'vicepresidencia ejecutiva'}, {'entity1': 'base de datos', 'relation': 'consiste', 'entity2': 'tablas de registro'}, {'entity1': 'comisión', 'relation': 'entrega', 'entity2': 'frutos'}, {'entity1': 'ministro del interior', 'relation': 'supervisión', 'entity2': 'procesos administrativos financieros'}, {'entity1': 'comisión', 'relation': 'desarrolló', 'entity2': 'trabajo'}, {'entity1': 'área de atención de público', 'relation': 'responsabilidad', 'entity2': 'recepción de antecedentes'}, {'entity1': 'región metropolitana', 'relation': 'atendía', 'entity2': '114 personas'}, {'entity1': 'profesionales', 'relation': 'realizaban', 'entity2': 'entrevistas'}, {'entity1': 'comisión', 'relation': 'elaboró', 'entity2': 'ficha de ingreso'}, {'entity1': 'presidente de la república', 'relation': 'designó', 'entity2': 'personas para audiencias'}, {'entity1': 'comisión', 'relation': 'mantener', 'entity2': 'reserva y confidencialidad'}, {'entity1': 'comisión', 'relation': 'recibe', 'entity2': 'información'}, {'entity1': 'ficha de ingreso', 'relation': 'recoge', 'entity2': 'información sobre aspectos del afectado'}]\n"
     ]
    }
   ],
   "source": [
    "import json\n",
    "\n",
    "file_path = \"./searcher/datos_a_evaluar/triplets.json\"\n",
    "\n",
    "with open(file_path, \"r\") as file:\n",
    "    data = json.load(file)\n",
    "\n",
    "triplets_list = {item['id']: item['triplets'] for item in data}\n",
    "\n",
    "# Create a sample list with 3 ids\n",
    "sample_ids = [0, 2, 4]\n",
    "\n",
    "# Print the triplets of the sample ids\n",
    "for id in sample_ids:\n",
    "    if id in triplets_list:\n",
    "        print(f\"Triplets for id {id}: {triplets_list[id]}\")\n",
    "    else:\n",
    "        print(f\"No triplets found for id {id}\")\n"
   ]
  }
 ],
 "metadata": {
  "kernelspec": {
   "display_name": "Python 3",
   "language": "python",
   "name": "python3"
  },
  "language_info": {
   "codemirror_mode": {
    "name": "ipython",
    "version": 3
   },
   "file_extension": ".py",
   "mimetype": "text/x-python",
   "name": "python",
   "nbconvert_exporter": "python",
   "pygments_lexer": "ipython3",
   "version": "3.12.3"
  }
 },
 "nbformat": 4,
 "nbformat_minor": 2
}
